{
  "nbformat": 4,
  "nbformat_minor": 0,
  "metadata": {
    "colab": {
      "provenance": [],
      "toc_visible": true,
      "authorship_tag": "ABX9TyPgfDusK5gko61kFWtuK1VH",
      "include_colab_link": true
    },
    "kernelspec": {
      "name": "python3",
      "display_name": "Python 3"
    }
  },
  "cells": [
    {
      "cell_type": "markdown",
      "metadata": {
        "id": "view-in-github",
        "colab_type": "text"
      },
      "source": [
        "<a href=\"https://colab.research.google.com/github/yukinaga/ai_programming_2022/blob/main/02_python_basic/11_lifegame.ipynb\" target=\"_parent\"><img src=\"https://colab.research.google.com/assets/colab-badge.svg\" alt=\"Open In Colab\"/></a>"
      ]
    },
    {
      "cell_type": "markdown",
      "metadata": {
        "id": "y2zWc3SUtb_Q"
      },
      "source": [
        "# ライフゲーム\n",
        "ライフゲームは、イギリスの数学者Conwayが考案したセル・オートマトンの一種です。  \n",
        "ライフゲームのセルには、死んでいるセル（0）と生きているセル（1）の2種類があります。これらは、以下のルールにより次の時刻における生死が決まります。  \n",
        "\n",
        "* 死んでいるセル（0）の周囲に3つの生きているセル（1）があれば次の時刻では生きているセルになる\n",
        "* 生きているセルの周囲に2つか3つの生きているセルがあれば次の時刻でも生きているセルのまま\n",
        "* これ以外の場合は、死んだセルになる\n",
        "\n",
        "Pythonを使い、ライフゲームを実装しましょう。"
      ]
    },
    {
      "cell_type": "markdown",
      "metadata": {
        "id": "qWORXdGj7PmC"
      },
      "source": [
        "## ◎ライフゲーム実装の準備\n",
        "ライフゲームの実装のために、数値演算ライブラリNumPyの2次元配列について学びましょう。  \n",
        "以下のセルでは、2次元配列`a`を作成して表示します。  \n"
      ]
    },
    {
      "cell_type": "code",
      "metadata": {
        "id": "9_mq4cRCrOKF"
      },
      "source": [
        "import numpy as np  # NumPyの導入、以降はnpという名前で使用\n",
        "\n",
        "# 2次元配列\n",
        "a = np.array([[1, 2, 3, 4],\n",
        "              [5, 6, 7, 8],\n",
        "              [9, 10, 11, 12],\n",
        "              [13, 14, 15, 16]])\n",
        "print(a)"
      ],
      "execution_count": null,
      "outputs": []
    },
    {
      "cell_type": "markdown",
      "metadata": {
        "id": "_z01oerKx2f5"
      },
      "source": [
        "同様に2次元配列`b`を作成します。  \n",
        "配列同士は、形状が同じなのであれば足し合わせることができます。  \n",
        "以下のセルでは、演算子`+`を使って`a`と`b`を足し合わせています。  "
      ]
    },
    {
      "cell_type": "code",
      "metadata": {
        "id": "_5EVJCeWznyC"
      },
      "source": [
        "b = np.array([[16, 15, 14, 13],\n",
        "              [12, 11, 10, 9],\n",
        "              [8, 7, 6, 5],\n",
        "              [4, 3, 2, 1]])\n",
        "print(a + b)  # aとbの各要素を足し合わせる"
      ],
      "execution_count": null,
      "outputs": []
    },
    {
      "cell_type": "markdown",
      "metadata": {
        "id": "WqOOYQN5KqPU"
      },
      "source": [
        "今回は、ライフゲームの実装のためにNumPyの`roll`関数を使います。  \n",
        "`roll`関数を使えば、2次元配列の要素を縦もしくは横にずらすことができます。  \n",
        "`roll`関数は、以下のようして使うことができます。  \n",
        "\n",
        "```ずらされた配列 = np.roll(元の配列, (ずれの値, ずれの値), axis=(ずれの方向、ずれの方向))```  \n",
        "\n",
        "例えば`np.roll(a, (1, 0), axis=(0, 1))`は、axisが0の方向（縦）に1ずらし、axisが1の方向（横）に0ずらすことを意味します。  \n",
        "以下のセルのコードでは、様々なずれの値を設定した上で`roll`関数を実行します。\n",
        "\n"
      ]
    },
    {
      "cell_type": "code",
      "metadata": {
        "id": "ocDb_b9SK1m6"
      },
      "source": [
        "print(np.roll(a, (1, 0), axis=(0, 1)))  # 0の方向に1、1の方向に0ずらす\n",
        "\n",
        "print()\n",
        "\n",
        "print(np.roll(a, (-1, 0), axis=(0, 1)))  # 0の方向に-1、1の方向に0ずらす\n",
        "\n",
        "print()\n",
        "\n",
        "print(np.roll(a, (0, 1), axis=(0, 1)))  # 0の方向に0、1の方向に1ずらす\n",
        "\n",
        "print()\n",
        "\n",
        "print(np.roll(a, (0, -1), axis=(0, 1)))  # 0の方向に0、1の方向に-1ずらす"
      ],
      "execution_count": null,
      "outputs": []
    },
    {
      "cell_type": "markdown",
      "metadata": {
        "id": "NmjyVIuiU5Gj"
      },
      "source": [
        "NumPyの2次元配列と`roll`関数を使って、ライフゲームの実装にトライしましょう。"
      ]
    },
    {
      "cell_type": "markdown",
      "metadata": {
        "id": "RVyvBbh5iume"
      },
      "source": [
        "## @ 演習"
      ]
    },
    {
      "cell_type": "markdown",
      "metadata": {
        "id": "-VkOMyVppxwA"
      },
      "source": [
        "以下のライフゲームの条件に基づき、2次元配列の各要素を更新する関数を記述しましょう。  \n",
        "* 死んでいるセル（0）の周囲に3つの生きているセル（1）があれば次の時刻では生きているセルになる\n",
        "* 生きているセルの周囲に2つか3つの生きているセルがあれば次の時刻でも生きているセルのまま\n",
        "* これ以外の場合は、死んだセルになる\n",
        "\n",
        "以下の`update_states`関数は、各要素が0もしくは1の2次元配列`states`を更新する関数です。  \n",
        "コードに追記を行い、正しく状態`states`が更新されるようにしましょう。  \n"
      ]
    },
    {
      "cell_type": "code",
      "metadata": {
        "id": "D3HdJ0eEdhbo"
      },
      "source": [
        "def update_states(states):  # states: 各要素が0もしくは1の状態を表す2次元配列\n",
        "    total = (  # 周囲の生きているセル（1）の数を数える\n",
        "        np.roll(states, (-1, 0), axis=(0, 1)) + np.roll(states, (1, 0), axis=(0, 1))\n",
        "        +   # ←こちらにコードを追記\n",
        "        + np.roll(states, (-1, -1), axis=(0, 1)) + np.roll(states, (-1, 1), axis=(0, 1))\n",
        "        +   # ←こちらにコードを追記\n",
        "    )\n",
        "    states = np.where(\n",
        "        ((states==0) & (total==3))  # 死んでいるセル（0）の周囲に3つの生きているセル（1）\n",
        "        | ((states==1) & ((total==2) | (total==3))),  # 生きているセル（1）の周囲に2つか3つの生きているセル（1）\n",
        "        1, 0  # 生（1）か死（0）\n",
        "        )\n",
        "    return states"
      ],
      "execution_count": null,
      "outputs": []
    },
    {
      "cell_type": "markdown",
      "metadata": {
        "id": "2QPYsM7CfZPI"
      },
      "source": [
        "上記にコードを追記後、以下のセルを実行すると`update_states`関数を使ってライフゲームの処理が行われ、結果が表示されます。"
      ]
    },
    {
      "cell_type": "code",
      "metadata": {
        "id": "aeQvNeBBtTiQ",
        "collapsed": true,
        "cellView": "form"
      },
      "source": [
        "import numpy as np\n",
        "import matplotlib.pyplot as plt\n",
        "from matplotlib import animation, rc\n",
        "\n",
        "# @markdown 領域の高さと幅を入力してください。\n",
        "height =  50# @param {type:\"number\"}\n",
        "width =  50# @param {type:\"number\"}\n",
        "\n",
        "# @markdown タイムステップを入力してください。\n",
        "steps = 200# @param {type:\"number\"}\n",
        "\n",
        "# @markdown GIFアニメを保存しますか？\n",
        "save_gif = False #@param {type:\"boolean\"}\n",
        "\n",
        "# @markdown MP4形式の動画を保存しますか？\n",
        "save_mp4 = False #@param {type:\"boolean\"}\n",
        "\n",
        "# 結果表示のための設定\n",
        "figure = plt.figure()\n",
        "plt.tick_params(labelbottom=False, labelleft=False, labelright=False, labeltop=False)\n",
        "plt.tick_params(bottom=False, left=False, right=False, top=False)\n",
        "\n",
        "# 初期値をランダムに設定\n",
        "states = np.random.randint(0, 2, (height, width))\n",
        "\n",
        "# 画像を格納するリスト\n",
        "images = []\n",
        "image = plt.imshow(states.tolist(), cmap=\"gray_r\")\n",
        "images.append([image])\n",
        "\n",
        "# セルの更新\n",
        "for t in range(steps):\n",
        "    states = update_states(states)\n",
        "    image = plt.imshow(states.tolist(), cmap=\"gray_r\")\n",
        "    images.append([image])\n",
        "\n",
        "# アニメーションの表示\n",
        "anim = animation.ArtistAnimation(figure, images, interval=100, blit=True)\n",
        "rc(\"animation\", html=\"jshtml\")\n",
        "if save_gif:\n",
        "    anim.save(\"lifegame.gif\", writer=\"pillow\", fps=10)\n",
        "if save_mp4:\n",
        "    anim.save(\"lifegame.mp4\", writer=\"ffmpeg\")\n",
        "plt.close()  # 通常のグラフを非表示に\n",
        "anim"
      ],
      "execution_count": null,
      "outputs": []
    },
    {
      "cell_type": "markdown",
      "metadata": {
        "id": "AR74nkt_q6xZ"
      },
      "source": [
        "結果が表示されたら、再生ボタンをクリックしてライフゲームの過程を確認しましょう。  \n",
        "なお、上記のセルのコードを確認したい方は、表示→コードを表示/非表示で表示することができます。"
      ]
    },
    {
      "cell_type": "markdown",
      "metadata": {
        "collapsed": true,
        "id": "oWYzjdm0dBqE"
      },
      "source": [
        "## @解答例"
      ]
    },
    {
      "cell_type": "code",
      "metadata": {
        "id": "DSwk2xG2eHOz"
      },
      "source": [
        "def update_states(states):  # 各要素が0もしくは1の状態を表す2次元配列\n",
        "    total = (  # 周囲の生きているセル（1）の数を数える\n",
        "        np.roll(states, (-1, 0), axis=(0, 1)) + np.roll(states, (1, 0), axis=(0, 1))\n",
        "        + np.roll(states, (0, -1), axis=(0, 1)) + np.roll(states, (0, 1), axis=(0, 1))  # ←こちらにコードを追記\n",
        "        + np.roll(states, (-1, -1), axis=(0, 1)) + np.roll(states, (-1, 1), axis=(0, 1))\n",
        "        + np.roll(states, (1, -1), axis=(0, 1)) + np.roll(states, (1, 1), axis=(0, 1))  # ←こちらにコードを追記\n",
        "    )\n",
        "    states = np.where(\n",
        "        ((states==0) & (total==3))  # 死んでいるセル（0）の周囲に3つの生きているセル（1）\n",
        "        | ((states==1) & ((total==2) | (total==3))),  # 生きているセル（1）の周囲に2つか3つの生きているセル（1）\n",
        "        1, 0  # 生（1）か死（0）\n",
        "        )\n",
        "    return states"
      ],
      "execution_count": null,
      "outputs": []
    }
  ]
}