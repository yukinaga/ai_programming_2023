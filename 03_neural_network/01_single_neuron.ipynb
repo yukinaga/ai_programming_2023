{
  "nbformat": 4,
  "nbformat_minor": 0,
  "metadata": {
    "colab": {
      "provenance": [],
      "include_colab_link": true
    },
    "kernelspec": {
      "name": "python3",
      "display_name": "Python 3"
    }
  },
  "cells": [
    {
      "cell_type": "markdown",
      "metadata": {
        "id": "view-in-github",
        "colab_type": "text"
      },
      "source": [
        "<a href=\"https://colab.research.google.com/github/yukinaga/ai_programming_2022/blob/main/03_neural_network/01_single_neuron.ipynb\" target=\"_parent\"><img src=\"https://colab.research.google.com/assets/colab-badge.svg\" alt=\"Open In Colab\"/></a>"
      ]
    },
    {
      "cell_type": "markdown",
      "metadata": {
        "id": "9BKL6OQk9qEa"
      },
      "source": [
        "# 単一ニューロンの実装\n",
        "通常ニューラルネットワークは多数のニューロンで構成されますが、今回はニューロンが1つしかないとてもシンプルなニューラルネットワークを実装します。  \n",
        "コードを書きながら、ニューロン内部の仕組みを把握していきましょう。"
      ]
    },
    {
      "cell_type": "markdown",
      "metadata": {
        "id": "jW1Im1d-DaG8"
      },
      "source": [
        "## ● ニューロンへの入力\n",
        "以下のセルで、ニューロン及びニューラルネットワークをクラスとして実装します。  \n",
        "ニューラルネットワークは複数の入力を受け取り、内部のニューロンにその値を渡します。  \n",
        "今回はまだ、ニューロンは受け取った値を足し合わて表示するのみです。  \n",
        "`__init__`はインスタンスの生成時に実行される特殊なメソッドで、初期設定のためによく使われます。"
      ]
    },
    {
      "cell_type": "code",
      "metadata": {
        "id": "jRSFgmgzIcP6"
      },
      "source": [
        "# ニューロン\n",
        "class Neuron:\n",
        "    def __init__(self):  # 初期設定\n",
        "        self.input_sum = 0.0\n",
        "\n",
        "    def set_input(self, inp):\n",
        "        self.input_sum += inp\n",
        "        print (self.input_sum)\n",
        "\n",
        "# ニューラルネットワーク\n",
        "class NeuralNetwork:\n",
        "    def __init__(self):  # 初期設定\n",
        "        self.neuron = Neuron()  #ニューロンのインスタンス\n",
        "\n",
        "    def commit(self, input_data):  # 実行\n",
        "        for data in input_data:\n",
        "            self.neuron.set_input(data)\n",
        "\n",
        "# ニューラルネットワークのインスタンス\n",
        "neural_network = NeuralNetwork()\n",
        "\n",
        "# 実行\n",
        "input_data = [1.0, 2.0, 3.0]\n",
        "neural_network.commit(input_data)"
      ],
      "execution_count": null,
      "outputs": []
    },
    {
      "cell_type": "code",
      "metadata": {
        "id": "5zJZQGcLYVCq"
      },
      "source": [
        "# コード練習用\n"
      ],
      "execution_count": null,
      "outputs": []
    },
    {
      "cell_type": "markdown",
      "metadata": {
        "id": "wKnGD8g4YYGj"
      },
      "source": [
        "## ● ニューロンからの出力\n",
        "入力はニューロンの内部で処理され、出力となります。  \n",
        "ニューロンからの出力は、ニューラルネットワークの出力となります。\n"
      ]
    },
    {
      "cell_type": "code",
      "metadata": {
        "id": "MARHVC7JIndu"
      },
      "source": [
        "# ニューロン\n",
        "class Neuron:\n",
        "    def __init__(self):  # 初期設定\n",
        "        self.input_sum = 0.0\n",
        "        self.output = 0.0\n",
        "\n",
        "    def set_input(self, inp):\n",
        "        self.input_sum += inp\n",
        "\n",
        "    def get_output(self):\n",
        "        self.output = self.input_sum\n",
        "        return self.output\n",
        "\n",
        "# ニューラルネットワーク\n",
        "class NeuralNetwork:\n",
        "    def __init__(self):  # 初期設定\n",
        "        self.neuron = Neuron()  #ニューロンのインスタンス\n",
        "\n",
        "    def commit(self, input_data):  # 実行\n",
        "        for data in input_data:\n",
        "            self.neuron.set_input(data)\n",
        "        return self.neuron.get_output()\n",
        "\n",
        "# ニューラルネットワークのインスタンス\n",
        "neural_network = NeuralNetwork()\n",
        "\n",
        "# 実行\n",
        "input_data = [1.0, 2.0, 3.0]\n",
        "print(neural_network.commit(input_data))"
      ],
      "execution_count": null,
      "outputs": []
    },
    {
      "cell_type": "code",
      "metadata": {
        "id": "qYViLX3gh_oS"
      },
      "source": [
        "# コード練習用\n"
      ],
      "execution_count": null,
      "outputs": []
    },
    {
      "cell_type": "markdown",
      "metadata": {
        "id": "4wdgaDGgh8_i"
      },
      "source": [
        "## ● 活性化関数の導入\n",
        "活性化関数として、シグモイド関数を導入します。  \n",
        "シグモイド関数に入力の総和を入れることで、0から1の範囲の出力を得ることができます。"
      ]
    },
    {
      "cell_type": "code",
      "metadata": {
        "id": "_KvFf2spJIye"
      },
      "source": [
        "import numpy as np\n",
        "\n",
        "# シグモイド関数\n",
        "def sigmoid(x):\n",
        "    return 1.0 / (1.0 + np.exp(-x))\n",
        "\n",
        "# ニューロン\n",
        "class Neuron:\n",
        "    def __init__(self):  # 初期設定\n",
        "        self.input_sum = 0.0\n",
        "        self.output = 0.0\n",
        "\n",
        "    def set_input(self, inp):\n",
        "        self.input_sum += inp\n",
        "\n",
        "    def get_output(self):\n",
        "        self.output = sigmoid(self.input_sum)\n",
        "        return self.output\n",
        "\n",
        "# ニューラルネットワーク\n",
        "class NeuralNetwork:\n",
        "    def __init__(self):  # 初期設定\n",
        "        self.neuron = Neuron()  #ニューロンのインスタンス\n",
        "\n",
        "    def commit(self, input_data):  # 実行\n",
        "        for data in input_data:\n",
        "            self.neuron.set_input(data)\n",
        "        return self.neuron.get_output()\n",
        "\n",
        "# ニューラルネットワークのインスタンス\n",
        "neural_network = NeuralNetwork()\n",
        "\n",
        "# 実行\n",
        "input_data = [1.0, 2.0, 3.0]\n",
        "print(neural_network.commit(input_data))"
      ],
      "execution_count": null,
      "outputs": []
    },
    {
      "cell_type": "code",
      "metadata": {
        "id": "b-oTytWfiom6"
      },
      "source": [
        "# コード練習用\n"
      ],
      "execution_count": null,
      "outputs": []
    },
    {
      "cell_type": "markdown",
      "metadata": {
        "id": "mae1n4G5ipXI"
      },
      "source": [
        "## ● 重みの導入\n",
        "入力の影響度を調整するための「重み」を導入します。  \n",
        "入力と重みの積の総和を、活性化関数の入力とします。  "
      ]
    },
    {
      "cell_type": "code",
      "metadata": {
        "id": "MuD2c59OJJyS"
      },
      "source": [
        "import numpy as np\n",
        "\n",
        "# シグモイド関数\n",
        "def sigmoid(x):\n",
        "    return 1.0 / (1.0 + np.exp(-x))\n",
        "\n",
        "# ニューロン\n",
        "class Neuron:\n",
        "    def __init__(self):  # 初期設定\n",
        "        self.input_sum = 0.0\n",
        "        self.output = 0.0\n",
        "\n",
        "    def set_input(self, inp):\n",
        "        self.input_sum += inp\n",
        "\n",
        "    def get_output(self):\n",
        "        self.output = sigmoid(self.input_sum)\n",
        "        return self.output\n",
        "\n",
        "# ニューラルネットワーク\n",
        "class NeuralNetwork:\n",
        "    def __init__(self):  # 初期設定\n",
        "        self.neuron = Neuron()  #ニューロンのインスタンス\n",
        "        self.w = [1.5, 0.75, -1.0]\n",
        "\n",
        "    def commit(self, input_data):  # 実行\n",
        "        self.neuron.set_input(input_data[0] * self.w[0])\n",
        "        self.neuron.set_input(input_data[1] * self.w[1])\n",
        "        self.neuron.set_input(input_data[2] * self.w[2])\n",
        "        return self.neuron.get_output()\n",
        "\n",
        "# ニューラルネットワークのインスタンス\n",
        "neural_network = NeuralNetwork()\n",
        "\n",
        "# 実行\n",
        "input_data = [1.0, 2.0, 3.0]\n",
        "print(neural_network.commit(input_data))"
      ],
      "execution_count": null,
      "outputs": []
    },
    {
      "cell_type": "code",
      "metadata": {
        "id": "SmyluuvmiqaE"
      },
      "source": [
        "# コード練習用\n"
      ],
      "execution_count": null,
      "outputs": []
    },
    {
      "cell_type": "markdown",
      "metadata": {
        "id": "jm3-zhsz7ZwR"
      },
      "source": [
        "## ● バイアスの導入\n",
        "バイアスを導入し、ニューロンの感度を調節します。  \n",
        "入力と重みの積にバイアスを加え、活性化関数の入力とします。  "
      ]
    },
    {
      "cell_type": "code",
      "metadata": {
        "id": "LIzdG42q7cea"
      },
      "source": [
        "import numpy as np\n",
        "\n",
        "# シグモイド関数\n",
        "def sigmoid(x):\n",
        "    return 1.0 / (1.0 + np.exp(-x))\n",
        "\n",
        "# ニューロン\n",
        "class Neuron:\n",
        "    def __init__(self):  # 初期設定\n",
        "        self.input_sum = 0.0\n",
        "        self.output = 0.0\n",
        "\n",
        "    def set_input(self, inp):\n",
        "        self.input_sum += inp\n",
        "\n",
        "    def get_output(self):\n",
        "        self.output = sigmoid(self.input_sum)\n",
        "        return self.output\n",
        "\n",
        "# ニューラルネットワーク\n",
        "class NeuralNetwork:\n",
        "    def __init__(self):  # 初期設定\n",
        "        self.neuron = Neuron()  #ニューロンのインスタンス\n",
        "        self.w = [1.5, 0.75, -1.0]\n",
        "        self.bias = 1.0\n",
        "\n",
        "    def commit(self, input_data):  # 実行\n",
        "        self.neuron.set_input(input_data[0] * self.w[0])\n",
        "        self.neuron.set_input(input_data[1] * self.w[1])\n",
        "        self.neuron.set_input(input_data[2] * self.w[2])\n",
        "        self.neuron.set_input(self.bias)\n",
        "        return self.neuron.get_output()\n",
        "\n",
        "# ニューラルネットワークのインスタンス\n",
        "neural_network = NeuralNetwork()\n",
        "\n",
        "# 実行\n",
        "input_data = [1.0, 2.0, 3.0]\n",
        "print(neural_network.commit(input_data))"
      ],
      "execution_count": null,
      "outputs": []
    },
    {
      "cell_type": "code",
      "metadata": {
        "id": "1fgjPQl77dXK"
      },
      "source": [
        "# コード練習用\n"
      ],
      "execution_count": null,
      "outputs": []
    }
  ]
}