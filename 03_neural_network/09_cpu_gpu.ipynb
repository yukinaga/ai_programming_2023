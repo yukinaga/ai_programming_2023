{
  "nbformat": 4,
  "nbformat_minor": 0,
  "metadata": {
    "colab": {
      "provenance": [],
      "include_colab_link": true
    },
    "kernelspec": {
      "name": "python3",
      "display_name": "Python 3"
    }
  },
  "cells": [
    {
      "cell_type": "markdown",
      "metadata": {
        "id": "view-in-github",
        "colab_type": "text"
      },
      "source": [
        "<a href=\"https://colab.research.google.com/github/yukinaga/ai_programming_2022/blob/main/03_neural_network/09_cpu_gpu.ipynb\" target=\"_parent\"><img src=\"https://colab.research.google.com/assets/colab-badge.svg\" alt=\"Open In Colab\"/></a>"
      ]
    },
    {
      "cell_type": "markdown",
      "metadata": {
        "id": "PL-WhmHvI9aI"
      },
      "source": [
        "# CPUとGPU\n",
        "実際にディープラーニングを行い、CPUとGPUのパフォーマンスを比較します。"
      ]
    },
    {
      "cell_type": "markdown",
      "metadata": {
        "id": "UHe07R4lfzqg"
      },
      "source": [
        "## ●CIFAR-10\n",
        "CIFARは、6万枚の画像にそれに写っているものが何なのかを表すラベルをつけたデータセットです。  \n",
        "今回は、こちらのデータセットを使ってニューラルネットワークを訓練します。  \n",
        "以下のコードでは、CIFAR-10を読み込み、ランダムな25枚の画像を表示します。"
      ]
    },
    {
      "cell_type": "code",
      "metadata": {
        "id": "tvE2Zb3catc3"
      },
      "source": [
        "import numpy as np\n",
        "import matplotlib.pyplot as plt\n",
        "import tensorflow.keras\n",
        "from tensorflow.keras.datasets import cifar10\n",
        "\n",
        "(x_train, t_train), (x_test, t_test) = cifar10.load_data()\n",
        "print(\"Image size:\", x_train[0].shape)\n",
        "\n",
        "cifar10_labels = np.array([\"airplane\", \"automobile\", \"bird\", \"cat\", \"deer\",\n",
        "                           \"dog\", \"frog\", \"horse\", \"ship\", \"truck\"])\n",
        "\n",
        "n_image = 25\n",
        "rand_idx = np.random.randint(0, len(x_train), n_image)\n",
        "\n",
        "plt.figure(figsize=(10,10))  # 画像の表示サイズ\n",
        "for i in range(n_image):\n",
        "    cifar_img=plt.subplot(5,5,i+1)\n",
        "    plt.imshow(x_train[rand_idx[i]])\n",
        "    label = cifar10_labels[t_train[rand_idx[i]]]\n",
        "    plt.title(label)\n",
        "    plt.tick_params(labelbottom=False, labelleft=False, bottom=False, left=False)  # ラベルとメモリを非表示に\n",
        "\n",
        "plt.show()"
      ],
      "execution_count": null,
      "outputs": []
    },
    {
      "cell_type": "markdown",
      "metadata": {
        "id": "VY2aX1CaZnK-"
      },
      "source": [
        "## ●パフォーマンス比較\n",
        "以下はフレームワークKerasを使って実装した、典型的な畳み込みニューラルネットワークのコードです。  \n",
        "ニューラルネットワークが5万枚の画像を学習します。  \n",
        "CPUとGPUで、学習に要する時間を比較しましょう。  \n",
        "デフォルトではCPUが使用されますが、編集→ノートブックの設定のハードウェアアクセラレーターでGPUを選択することでGPUが使用されるようになります。  \n",
        "実行時間は、実行結果が表示される領域の左のアイコンにカーソルを合わせると確認することができます。"
      ]
    },
    {
      "cell_type": "code",
      "metadata": {
        "id": "ciwFomv_50Hm"
      },
      "source": [
        "import numpy as np\n",
        "import matplotlib.pyplot as plt\n",
        "from tensorflow.keras.datasets import cifar10\n",
        "from tensorflow.keras.utils import to_categorical\n",
        "from tensorflow.keras.models import Sequential\n",
        "from tensorflow.keras.layers import Dense, Dropout, Activation, Flatten\n",
        "from tensorflow.keras.layers import Conv2D, MaxPooling2D\n",
        "from tensorflow.keras.optimizers import Adam\n",
        "\n",
        "(x_train, t_train), (x_test, t_test) = cifar10.load_data()\n",
        "\n",
        "batch_size = 32\n",
        "epochs = 1\n",
        "n_class = 10\n",
        "\n",
        "t_train = to_categorical(t_train, n_class)\n",
        "t_test = to_categorical(t_test, n_class)\n",
        "\n",
        "model = Sequential()\n",
        "\n",
        "model.add(Conv2D(32, (3, 3), padding='same', input_shape=x_train.shape[1:]))\n",
        "model.add(Activation('relu'))\n",
        "model.add(Conv2D(32, (3, 3)))\n",
        "model.add(Activation('relu'))\n",
        "model.add(MaxPooling2D(pool_size=(2, 2)))\n",
        "\n",
        "model.add(Conv2D(64, (3, 3), padding='same'))\n",
        "model.add(Activation('relu'))\n",
        "model.add(Conv2D(64, (3, 3)))\n",
        "model.add(Activation('relu'))\n",
        "model.add(MaxPooling2D(pool_size=(2, 2)))\n",
        "\n",
        "model.add(Flatten())\n",
        "model.add(Dense(256))\n",
        "model.add(Activation('relu'))\n",
        "model.add(Dropout(0.5))\n",
        "model.add(Dense(n_class))\n",
        "model.add(Activation('softmax'))\n",
        "\n",
        "model.compile(optimizer=Adam(), loss='categorical_crossentropy', metrics=['accuracy'])\n",
        "\n",
        "x_train = x_train / 255\n",
        "x_test = x_test / 255\n",
        "\n",
        "model.fit(x_train, t_train, epochs=epochs, batch_size=batch_size, validation_data=(x_test, t_test))"
      ],
      "execution_count": null,
      "outputs": []
    },
    {
      "cell_type": "markdown",
      "metadata": {
        "id": "xMBacVeeib9F"
      },
      "source": [
        "CPUの場合、コードの実行時間は約240秒、GPUの場合は約43秒でした。  \n",
        "このように、GPUを利用することで学習に要する時間を大幅に短縮することができます。  "
      ]
    }
  ]
}