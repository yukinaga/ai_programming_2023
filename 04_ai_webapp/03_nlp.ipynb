{
  "nbformat": 4,
  "nbformat_minor": 0,
  "metadata": {
    "colab": {
      "provenance": [],
      "authorship_tag": "ABX9TyNtU0SC3cPOMSqGmwxUvmww",
      "include_colab_link": true
    },
    "kernelspec": {
      "name": "python3",
      "display_name": "Python 3"
    },
    "language_info": {
      "name": "python"
    }
  },
  "cells": [
    {
      "cell_type": "markdown",
      "metadata": {
        "id": "view-in-github",
        "colab_type": "text"
      },
      "source": [
        "<a href=\"https://colab.research.google.com/github/yukinaga/ai_programming_2022/blob/main/04_ai_webapp/03_nlp.ipynb\" target=\"_parent\"><img src=\"https://colab.research.google.com/assets/colab-badge.svg\" alt=\"Open In Colab\"/></a>"
      ]
    },
    {
      "cell_type": "markdown",
      "metadata": {
        "id": "8kW_qXJVTjic"
      },
      "source": [
        "# 自然言語処理アプリ\n",
        "Streamlitを使い、文章を解析するアプリを作りましょう。  \n",
        "spaCyというライブラリを使用します。"
      ]
    },
    {
      "cell_type": "markdown",
      "source": [
        "## ●ライブラリのインストール\n",
        "Streamlit、およびアプリの動作の確認に使用する「ngrok」、および自然言語処理のための「spaCy」をインストールします。"
      ],
      "metadata": {
        "id": "vRJCuxALcgkb"
      }
    },
    {
      "cell_type": "code",
      "execution_count": null,
      "metadata": {
        "id": "Pbqipzj3nCy4"
      },
      "outputs": [],
      "source": [
        "!pip install streamlit==1.7.0 --quiet\n",
        "!pip install pyngrok==4.1.1 --quiet\n",
        "!pip install spacy[ja]==3.2.1 --quiet\n",
        "!pip install ginza ja-ginza --quiet"
      ]
    },
    {
      "cell_type": "markdown",
      "source": [
        "Streamlit、およびngrokをインポートしておきます。  \n",
        "エラーが発生する場合は、「ランタイム」→「ランタイムを再起動」によりランタイムを再起動し、再びコードセルを上から順に実行しましょう。"
      ],
      "metadata": {
        "id": "husUkYy5dhZ4"
      }
    },
    {
      "cell_type": "code",
      "source": [
        "import streamlit as st\n",
        "from pyngrok import ngrok"
      ],
      "metadata": {
        "id": "OsHcq-kaDwIi"
      },
      "execution_count": null,
      "outputs": []
    },
    {
      "cell_type": "markdown",
      "source": [
        "## ●自然言語処理アプリのコード\n",
        "自然言語処理アプリのコードを、「app.py」に書き込みます。  \n",
        "spaCyを使い、テキストの文章ごと分割、名詞の抽出、依存関係の可視化などを行います。"
      ],
      "metadata": {
        "id": "5fOtVgU5duPe"
      }
    },
    {
      "cell_type": "code",
      "source": [
        "%%writefile app.py\n",
        "import streamlit as st\n",
        "import spacy\n",
        "from spacy import displacy\n",
        "\n",
        "st.sidebar.title(\"文章解析アプリ\")\n",
        "st.sidebar.write(\"SpaCyを使って文章を解析します。\")\n",
        "\n",
        "st.sidebar.write(\"\")\n",
        "\n",
        "text = st.text_area(\"解析する文章\", \"文章を入力してください。\")\n",
        "nlp = spacy.load(\"ja_ginza\")\n",
        "doc = nlp(text)\n",
        "\n",
        "method = st.sidebar.radio(\"解析方法を選択してください。\",\n",
        "                          (\"文章ごとに分割\", \"名詞の抽出\", \"品詞と依存関係\", \"依存関係の可視化\", \"固有表現の抽出\"))\n",
        "\n",
        "if method == \"文章ごとに分割\":\n",
        "    for sentence in doc.sents:\n",
        "        st.caption(sentence)\n",
        "\n",
        "elif method == \"名詞の抽出\":\n",
        "    for noun in doc.noun_chunks:\n",
        "        st.caption(noun)\n",
        "\n",
        "elif method == \"品詞と依存関係\":\n",
        "    for token in doc:\n",
        "        st.caption(token.text + \" / \" + token.pos_ + \" / \" + token.dep_)\n",
        "\n",
        "elif method == \"依存関係の可視化\":\n",
        "    svg = displacy.render(doc, style=\"dep\")\n",
        "    st.image(svg)\n",
        "\n",
        "elif method == \"固有表現の抽出\":\n",
        "    html = displacy.render(doc, style=\"ent\")\n",
        "    st.markdown(html, unsafe_allow_html=True)"
      ],
      "metadata": {
        "id": "Ntj_BU3bnJli"
      },
      "execution_count": null,
      "outputs": []
    },
    {
      "cell_type": "markdown",
      "source": [
        "## ●Authtokenの設定\n",
        "ngrokで接続するために必要な「Authtoken」を設定します。  \n",
        "以下のコードの、  \n",
        "`!ngrok authtoken YourAuthtoken`  \n",
        "における  \n",
        "`YourAuthtoken`の箇所を、自分のAuthtokenに置き換えます。  \n",
        "Authtokenは、ngrokのサイトに登録すれば取得することができます。  \n",
        "https://ngrok.com/\n"
      ],
      "metadata": {
        "id": "j03EsJaHh4KK"
      }
    },
    {
      "cell_type": "code",
      "source": [
        "!ngrok authtoken YourAuthtoken"
      ],
      "metadata": {
        "id": "mTfmORj2Dn7-"
      },
      "execution_count": null,
      "outputs": []
    },
    {
      "cell_type": "markdown",
      "source": [
        "## ●アプリの起動と動作確認\n",
        "streamlitの`run`コマンドでアプリを起動します。\n"
      ],
      "metadata": {
        "id": "CnobL05MkjB1"
      }
    },
    {
      "cell_type": "code",
      "source": [
        "!streamlit run app.py &>/dev/null&  # 「&>/dev/null&」により、出力を非表示にしてバックグランドジョブとして実行"
      ],
      "metadata": {
        "id": "W0jXlMXWK0vi"
      },
      "execution_count": null,
      "outputs": []
    },
    {
      "cell_type": "markdown",
      "source": [
        "ngrokのプロセスを終了した上で、新たにポートを指定して接続します。  \n",
        "接続の結果、urlを取得できます。  \n",
        "ngrokの無料プランでは同時に1つのプロセスしか動かせないので、エラーが発生した場合は「ランタイム」→「セッションの管理」で不要なGoogle Colabのセッションを修了しましょう。  "
      ],
      "metadata": {
        "id": "W5RLCJ7Sl2x_"
      }
    },
    {
      "cell_type": "code",
      "source": [
        "ngrok.kill()  # プロセスの修了\n",
        "url = ngrok.connect(port=\"8501\")  # 接続"
      ],
      "metadata": {
        "id": "v23ymsdLK3x7"
      },
      "execution_count": null,
      "outputs": []
    },
    {
      "cell_type": "markdown",
      "source": [
        "リンクのURLをコピーし、ブラウザのURL欄に貼り付けて「http」を「https」に変更の上、ページを表示してください。  \n",
        "アプリの画面が表示されることを確認しましょう。  "
      ],
      "metadata": {
        "id": "NZ0O_pNan57t"
      }
    },
    {
      "cell_type": "code",
      "source": [
        "print(url)"
      ],
      "metadata": {
        "id": "MIY7ositLAXC"
      },
      "execution_count": null,
      "outputs": []
    }
  ]
}