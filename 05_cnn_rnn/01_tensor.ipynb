{
  "nbformat": 4,
  "nbformat_minor": 0,
  "metadata": {
    "colab": {
      "provenance": [],
      "include_colab_link": true
    },
    "kernelspec": {
      "name": "python3",
      "display_name": "Python 3"
    }
  },
  "cells": [
    {
      "cell_type": "markdown",
      "metadata": {
        "id": "view-in-github",
        "colab_type": "text"
      },
      "source": [
        "<a href=\"https://colab.research.google.com/github/yukinaga/ai_programming_2022/blob/main/05_cnn_rnn/01_tensor.ipynb\" target=\"_parent\"><img src=\"https://colab.research.google.com/assets/colab-badge.svg\" alt=\"Open In Colab\"/></a>"
      ]
    },
    {
      "cell_type": "markdown",
      "metadata": {
        "id": "qBeK8bWc4a_9"
      },
      "source": [
        "# Tensor\n",
        "TensorはPyTorchにおいて最も基本となるデータ構造です。  \n",
        "今回は、Tensorを生成したり、Tensor同士の計算をしたりするコードを練習します。"
      ]
    },
    {
      "cell_type": "markdown",
      "metadata": {
        "id": "ztIkOM_N5Bu7"
      },
      "source": [
        "## パッケージの確認\n",
        "インストール済みのパッケージを全て表示します。  \n",
        "PyTorch（torch）がインストールされていることを確認しましょう。"
      ]
    },
    {
      "cell_type": "code",
      "metadata": {
        "id": "SLrzxL39qGie"
      },
      "source": [
        "!pip list"
      ],
      "execution_count": null,
      "outputs": []
    },
    {
      "cell_type": "markdown",
      "metadata": {
        "id": "EMC135bx6E3u"
      },
      "source": [
        "## Tensorの生成\n",
        "torchのtensor関数によりTensorを生成します。  \n",
        "以下のセルではPythonのリストからTensorを生成します。  \n",
        "また、type( )により型を確認します。  "
      ]
    },
    {
      "cell_type": "code",
      "metadata": {
        "id": "xCg7mgXPqBc8"
      },
      "source": [
        "import torch\n",
        "a = torch.tensor([1,2,3])\n",
        "print(a, type(a))"
      ],
      "execution_count": null,
      "outputs": []
    },
    {
      "cell_type": "markdown",
      "metadata": {
        "id": "6LcfIq4nWfG2"
      },
      "source": [
        "他にも、様々な方法でTensorを生成することができます。"
      ]
    },
    {
      "cell_type": "code",
      "metadata": {
        "id": "3X2TN2rYtCTO"
      },
      "source": [
        "# 2重のリストから生成\n",
        "b = torch.tensor([[1, 2],\n",
        "                  [3, 4]])\n",
        "print(b)\n",
        "\n",
        "# dypeを指定し、倍精度のTensorにする\n",
        "c = torch.tensor([[1, 2],\n",
        "                  [3, 4]], dtype=torch.float64)\n",
        "print(c)\n",
        "\n",
        "# 0から9までの数値で初期化\n",
        "d = torch.arange(0, 10)\n",
        "print(d)\n",
        "\n",
        "# すべての値が0の、2×3のTensor\n",
        "e = torch.zeros(2, 3)\n",
        "print(e)\n",
        "\n",
        "# すべての値が乱数の、2×3のTensor\n",
        "f = torch.rand(2, 3)\n",
        "print(f)\n",
        "\n",
        "# Tensorの形状はsizeメソッドで取得\n",
        "print(f.size())"
      ],
      "execution_count": null,
      "outputs": []
    },
    {
      "cell_type": "markdown",
      "metadata": {
        "id": "b-TrDK5qewJp"
      },
      "source": [
        "## TensorとNumPyの配列の変換\n",
        "numpy()メソッドでTensorをNumPyの配列に変換することができます。  \n",
        "また、from_numpy( )関数でNumPyの配列をTensorに変換することができます。"
      ]
    },
    {
      "cell_type": "code",
      "metadata": {
        "id": "VdQc9-L5gBFZ"
      },
      "source": [
        "# Tensor → NumPy\n",
        "a = torch.tensor([[1, 2],\n",
        "                  [3, 4.]])\n",
        "b = a.numpy()\n",
        "print(b)\n",
        "\n",
        "# NumPy → Tensor\n",
        "c = torch.from_numpy(b)\n",
        "print(c)"
      ],
      "execution_count": null,
      "outputs": []
    },
    {
      "cell_type": "markdown",
      "metadata": {
        "id": "CgpWSmhXnas_"
      },
      "source": [
        "## 範囲を指定してアクセス\n",
        "様々な方法で、Tensorの要素に範囲を指定してアクセスすることができます。"
      ]
    },
    {
      "cell_type": "code",
      "metadata": {
        "id": "MgWk6RXMoX_l"
      },
      "source": [
        "a = torch.tensor([[1, 2, 3],\n",
        "                  [4, 5, 6]])\n",
        "\n",
        "# 2つのインデックスを指定\n",
        "print(a[0, 1])\n",
        "\n",
        "# 範囲を指定\n",
        "print(a[1:2, :2])\n",
        "\n",
        "# リストで複数のインデックスを指定\n",
        "print(a[:, [0, 2]])\n",
        "\n",
        "# 3より大きい要素のみを指定\n",
        "print(a[a>3])\n",
        "\n",
        "# 要素の変更\n",
        "a[0, 2] = 11\n",
        "print(a)\n",
        "\n",
        "# 要素の一括変更\n",
        "a[:, 1] = 22\n",
        "print(a)\n",
        "\n",
        "# 10より大きい要素のみ変更\n",
        "a[a>10] = 33\n",
        "print(a)"
      ],
      "execution_count": null,
      "outputs": []
    },
    {
      "cell_type": "markdown",
      "metadata": {
        "id": "2HQMM_Fh02of"
      },
      "source": [
        "## Tensorの演算\n",
        "Tensorによりベクトルや行列を表現することができます。  \n",
        "これらの演算は、一定のルールに基づき行われます。  "
      ]
    },
    {
      "cell_type": "code",
      "metadata": {
        "id": "AQ5IsU0Fz-DJ"
      },
      "source": [
        "# ベクトル\n",
        "a = torch.tensor([1, 2, 3]) \n",
        "b = torch.tensor([4, 5, 6])\n",
        "\n",
        "# 行列\n",
        "c = torch.tensor([[6, 5, 4],\n",
        "                  [3, 2, 1]])\n",
        "\n",
        "# ベクトルとスカラーの演算\n",
        "print(a + 3)\n",
        "\n",
        "# ベクトル同士の演算\n",
        "print(a + b) \n",
        "\n",
        "# 行列とスカラーの演算\n",
        "print(c + 2)\n",
        "\n",
        "# 行列とベクトルの演算（ブロードキャスト）\n",
        "print(c + a)\n",
        "\n",
        "# 行列同士の演算\n",
        "print(c + c)"
      ],
      "execution_count": null,
      "outputs": []
    },
    {
      "cell_type": "markdown",
      "metadata": {
        "id": "r0S-nN_c8MKr"
      },
      "source": [
        "## 様々な値の計算\n",
        "平均値、合計値、最大値、最小値など様々な値を計算する関数とメソッドが用意されています。\n"
      ]
    },
    {
      "cell_type": "code",
      "metadata": {
        "id": "X_LIWIwI59rI"
      },
      "source": [
        "a = torch.tensor([[1, 2, 3],\n",
        "                  [4, 5, 6.]])\n",
        "\n",
        "# 平均値を求める関数\n",
        "m = torch.mean(a)\n",
        "print(m.item())  # item()で値を取り出す\n",
        "\n",
        "# 平均値を求めるメソッド\n",
        "m = a.mean()\n",
        "print(m.item())\n",
        "\n",
        "# 列ごとの平均値\n",
        "print(a.mean(0))\n",
        "\n",
        "# 合計値\n",
        "print(torch.sum(a).item())\n",
        "\n",
        "# 最大値\n",
        "print(torch.max(a).item())\n",
        "\n",
        "# 最小値\n",
        "print(torch.min(a).item())"
      ],
      "execution_count": null,
      "outputs": []
    }
  ]
}