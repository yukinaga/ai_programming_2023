{
  "nbformat": 4,
  "nbformat_minor": 0,
  "metadata": {
    "colab": {
      "provenance": [],
      "include_colab_link": true
    },
    "kernelspec": {
      "name": "python3",
      "display_name": "Python 3"
    },
    "accelerator": "GPU"
  },
  "cells": [
    {
      "cell_type": "markdown",
      "metadata": {
        "id": "view-in-github",
        "colab_type": "text"
      },
      "source": [
        "<a href=\"https://colab.research.google.com/github/yukinaga/ai_programming_2022/blob/main/05_cnn_rnn/09_image_generation.ipynb\" target=\"_parent\"><img src=\"https://colab.research.google.com/assets/colab-badge.svg\" alt=\"Open In Colab\"/></a>"
      ]
    },
    {
      "cell_type": "markdown",
      "metadata": {
        "id": "Niaz8_W6OX34"
      },
      "source": [
        "# RNNによる画像生成\n",
        "画像を時系列のデータと捉えることで、RNNにより画像を生成することが可能になります。  \n",
        "今回は、画像データを使ってRNNを訓練し、画像の上半分をもとに画像の下半分を生成します。  \n",
        "RNNの層にはLSTMを使用します。  \n"
      ]
    },
    {
      "cell_type": "markdown",
      "metadata": {
        "id": "LoISGl864sy9"
      },
      "source": [
        "## Fashion-MNIST\n",
        "torchvision.datasetsを使い、Fashion-MNISTを読み込みます。  \n",
        "Fashion-MNISTは、6万枚のファッションアイテム画像にラベルをつけたたデータセットです。  \n",
        "以下のコードでは、Fashion-MNISTを読み込み、ランダムな25枚の画像を表示します。"
      ]
    },
    {
      "cell_type": "code",
      "metadata": {
        "id": "sQ1S5UNy-rpY"
      },
      "source": [
        "from torchvision.datasets import FashionMNIST\n",
        "import torchvision.transforms as transforms\n",
        "from torch.utils.data import DataLoader\n",
        "import numpy as np\n",
        "import matplotlib.pyplot as plt\n",
        "\n",
        "fmnist_data = FashionMNIST(root=\"./data\",\n",
        "                            train=True,download=True,\n",
        "                            transform=transforms.ToTensor())\n",
        "fmnist_classes = np.array([\"T-shirt/top\", \"Trouser\", \"Pullover\", \"Dress\", \"Coat\",\n",
        "                            \"Sandal\", \"Shirt\", \"Sneaker\", \"Bag\", \"Ankle boot\"])\n",
        "print(\"データの数:\", len(fmnist_data))\n",
        "\n",
        "n_image = 25  # 表示する画像の数\n",
        "fmnist_loader = DataLoader(fmnist_data, batch_size=n_image, shuffle=True)\n",
        "dataiter = iter(fmnist_loader)  # イテレータ\n",
        "images, labels = next(dataiter)  # 最初のバッチを取り出す\n",
        "\n",
        "img_size = 28\n",
        "plt.figure(figsize=(10,10))  # 画像の表示サイズ\n",
        "for i in range(n_image):\n",
        "    plt.subplot(5,5,i+1)\n",
        "    plt.imshow(images[i].reshape(img_size, img_size), cmap=\"Greys_r\")\n",
        "    label = fmnist_classes[labels[i]]\n",
        "    plt.title(label)\n",
        "    plt.tick_params(labelbottom=False, labelleft=False, bottom=False, left=False)  # ラベルとメモリを非表示に\n",
        "\n",
        "plt.show()"
      ],
      "execution_count": null,
      "outputs": []
    },
    {
      "cell_type": "markdown",
      "metadata": {
        "id": "vvRgf3-j2k76"
      },
      "source": [
        "## データの前処理\n",
        "画像データをRNNに適した形に整えます。  \n",
        "画像を時系列データに変換しますが、正解は時系列の次の行にします。 "
      ]
    },
    {
      "cell_type": "code",
      "metadata": {
        "id": "bUcJiVtDV7Ad"
      },
      "source": [
        "import torch\n",
        "from torch.utils.data import DataLoader\n",
        "\n",
        "n_time = 14  # 時系列の数\n",
        "n_in = img_size  # 入力層のニューロン数\n",
        "n_mid = 256  # 中間層のニューロン数\n",
        "n_out = img_size  # 出力層のニューロン数\n",
        "n_sample_in_img = img_size-n_time  # 1枚の画像中のサンプル数\n",
        "\n",
        "dataloader = DataLoader(fmnist_data, batch_size=len(fmnist_data), shuffle=False)\n",
        "dataiter = iter(dataloader)  # イテレータ\n",
        "train_imgs, labels = next(dataiter)  # データを取り出す\n",
        "train_imgs = train_imgs.reshape(-1, img_size, img_size)\n",
        "\n",
        "n_sample = len(train_imgs) * n_sample_in_img  # サンプル数\n",
        "\n",
        "input_data = np.zeros((n_sample, n_time, n_in))  # 入力\n",
        "correct_data = np.zeros((n_sample, n_out))  # 正解\n",
        "for i in range(len(train_imgs)):\n",
        "    for j in range(n_sample_in_img):\n",
        "        sample_id = i*n_sample_in_img + j\n",
        "        input_data[sample_id] = train_imgs[i, j:j+n_time]\n",
        "        correct_data[sample_id] = train_imgs[i, j+n_time]\n",
        "\n",
        "input_data = torch.tensor(input_data, dtype=torch.float)  # テンソルに変換\n",
        "correct_data = torch.tensor(correct_data, dtype=torch.float)\n",
        "dataset = torch.utils.data.TensorDataset(input_data, correct_data)  # データセットの作成\n",
        "\n",
        "train_loader = DataLoader(dataset, batch_size=128, shuffle=True)  # DataLoaderの設定"
      ],
      "execution_count": null,
      "outputs": []
    },
    {
      "cell_type": "markdown",
      "metadata": {
        "id": "d8pnaugFDnLN"
      },
      "source": [
        "## テスト用のデータ\n",
        "今回は、訓練済みのモデルが機能することを確かめるために使用します。"
      ]
    },
    {
      "cell_type": "code",
      "metadata": {
        "id": "xISsKRTAp7QG"
      },
      "source": [
        "n_disp = 10  # 生成し表示する画像の数\n",
        "\n",
        "disp_data = FashionMNIST(root=\"./data\",\n",
        "                            train=False,download=True,\n",
        "                            transform=transforms.ToTensor())\n",
        "disp_loader = DataLoader(disp_data, batch_size=n_disp, shuffle=False)\n",
        "dataiter = iter(disp_loader)  # イテレータ\n",
        "disp_imgs, labels = next(dataiter)  # データを取り出す\n",
        "disp_imgs = disp_imgs.reshape(-1, img_size, img_size)"
      ],
      "execution_count": null,
      "outputs": []
    },
    {
      "cell_type": "markdown",
      "metadata": {
        "id": "NyLBjYjr3RXu"
      },
      "source": [
        "## 画像生成用の関数\n",
        "以下の関数は、オリジナルの画像`disp_imgs`と、この画像の上半分をもとに下半分を生成した`gen_imgs`を並べて表示します。  \n",
        "最初は画像の上半分をシードにして新たな行を生成しますが、次はその新たな行を含む直近の時系列からさらに次の行を生成します。  \n",
        "これを繰り返すことで、下半分の画像が生成されます。  "
      ]
    },
    {
      "cell_type": "code",
      "metadata": {
        "id": "dFmq4Oy6apUC"
      },
      "source": [
        "def generate_images():\n",
        "    # オリジナルの画像\n",
        "    print(\"Original:\")\n",
        "    plt.figure(figsize=(20, 2))\n",
        "    for i in range(n_disp):\n",
        "        ax = plt.subplot(1, n_disp, i+1)\n",
        "        plt.imshow(disp_imgs[i], cmap=\"Greys_r\", vmin=0.0, vmax=1.0)\n",
        "        ax.get_xaxis().set_visible(False)  # 軸を非表示に\n",
        "        ax.get_yaxis().set_visible(False)\n",
        "    plt.show()\n",
        "\n",
        "    # 下半分をRNNにより生成した画像\n",
        "    print(\"Generated:\")\n",
        "    gen_imgs = disp_imgs.clone()\n",
        "    plt.figure(figsize=(20, 2))\n",
        "    for i in range(n_disp):\n",
        "        for j in range(n_sample_in_img):\n",
        "            x = gen_imgs[i, j:j+n_time].reshape(1, n_time, img_size)\n",
        "            x = x.cuda()  # GPU対応\n",
        "            gen_imgs[i, j+n_time] = net(x)[0]\n",
        "        ax = plt.subplot(1, n_disp, i+1)\n",
        "        plt.imshow(gen_imgs[i].detach(), cmap=\"Greys_r\", vmin=0.0, vmax=1.0)\n",
        "        ax.get_xaxis().set_visible(False)  # 軸を非表示に\n",
        "        ax.get_yaxis().set_visible(False)\n",
        "    plt.show()"
      ],
      "execution_count": null,
      "outputs": []
    },
    {
      "cell_type": "markdown",
      "metadata": {
        "id": "FalXNYaJPkoE"
      },
      "source": [
        "## モデルの構築\n",
        "`nn.Module`モジュールを継承したクラスとして、モデルを構築します。  \n",
        "LSTMは`nn.LSTM`を使って実装することができます。"
      ]
    },
    {
      "cell_type": "code",
      "metadata": {
        "id": "SuqqZmsh_jNK"
      },
      "source": [
        "import torch.nn as nn\n",
        "import torch.nn.functional as F\n",
        "\n",
        "class Net(nn.Module):\n",
        "    def __init__(self):\n",
        "        super().__init__()\n",
        "        self.rnn = nn.LSTM(  # LSTM層\n",
        "            input_size=n_in,  # 入力サイズ\n",
        "            hidden_size=n_mid,  # ニューロン数\n",
        "            batch_first=True,  # 入力を (バッチサイズ, 時系列の数, 入力の数) にする\n",
        "        )\n",
        "        self.fc = nn.Linear(n_mid, n_out)  # 全結合層\n",
        "\n",
        "    def forward(self, x):\n",
        "        y_rnn, (h, c) = self.rnn(x, None)  # hは次の時刻に渡される値、 cは記憶セル\n",
        "        y = self.fc(y_rnn[:, -1, :])  # yは最後の時刻の出力\n",
        "        return y\n",
        "\n",
        "net = Net()\n",
        "net.cuda()  # GPU対応\n",
        "print(net)"
      ],
      "execution_count": null,
      "outputs": []
    },
    {
      "cell_type": "markdown",
      "metadata": {
        "id": "qsW5zCKhQE9p"
      },
      "source": [
        "## 学習\n",
        "モデルを訓練します。  \n",
        "DataLoaderを使い、ミニバッチを取り出して訓練および評価を行います。  \n",
        "学習中、一定のエポック間隔ごとに誤差の表示と画像の生成が行われます。  \n",
        "学習には時間がかかりますので、編集→ノートブックの設定のハードウェアアクセラレーターでGPUを選択しましょう。"
      ]
    },
    {
      "cell_type": "code",
      "metadata": {
        "id": "u6zwN3nArbGC"
      },
      "source": [
        "from torch import optim\n",
        "\n",
        "# 交差エントロピー誤差関数\n",
        "loss_fnc = nn.MSELoss()\n",
        "\n",
        "# 最適化アルゴリズム\n",
        "optimizer = optim.Adam(net.parameters())  # 学習率は0.01\n",
        "\n",
        "# 損失のログ\n",
        "record_loss_train = []\n",
        "\n",
        "# 学習\n",
        "for i in range(25):  # 25エポック学習\n",
        "    net.train()  # 訓練モード\n",
        "    loss_train = 0\n",
        "    for j, (x, t) in enumerate(train_loader):  # ミニバッチ（x, t）を取り出す\n",
        "        x, t = x.cuda(), t.cuda()  # GPU対応\n",
        "        y = net(x)\n",
        "        loss = loss_fnc(y, t)\n",
        "        loss_train += loss.item()\n",
        "        optimizer.zero_grad()\n",
        "        loss.backward()\n",
        "        optimizer.step()\n",
        "    loss_train /= j+1\n",
        "    record_loss_train.append(loss_train)\n",
        "\n",
        "    if i%1 == 0:\n",
        "        print(\"Epoch:\", i, \"Loss_Train:\", loss_train)\n",
        "        generate_images()"
      ],
      "execution_count": null,
      "outputs": []
    },
    {
      "cell_type": "markdown",
      "metadata": {
        "id": "rJwwrWTw43rx"
      },
      "source": [
        "## 誤差の推移\n",
        "誤差の推移をグラフ表示します。  "
      ]
    },
    {
      "cell_type": "code",
      "metadata": {
        "id": "OaJx4swE45XI"
      },
      "source": [
        "import matplotlib.pyplot as plt\n",
        "\n",
        "plt.plot(range(len(record_loss_train)), record_loss_train, label=\"Train\")\n",
        "plt.legend()\n",
        "\n",
        "plt.xlabel(\"Epochs\")\n",
        "plt.ylabel(\"Error\")\n",
        "plt.show()"
      ],
      "execution_count": null,
      "outputs": []
    },
    {
      "cell_type": "markdown",
      "metadata": {
        "id": "iMrpac0m4Nct"
      },
      "source": [
        "滑らかに誤差が減少していることが確認できます。"
      ]
    }
  ]
}