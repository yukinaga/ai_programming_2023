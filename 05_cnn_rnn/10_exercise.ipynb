{
  "nbformat": 4,
  "nbformat_minor": 0,
  "metadata": {
    "colab": {
      "provenance": [],
      "include_colab_link": true
    },
    "kernelspec": {
      "name": "python3",
      "display_name": "Python 3"
    },
    "accelerator": "GPU"
  },
  "cells": [
    {
      "cell_type": "markdown",
      "metadata": {
        "id": "view-in-github",
        "colab_type": "text"
      },
      "source": [
        "<a href=\"https://colab.research.google.com/github/yukinaga/ai_programming_2022/blob/main/05_cnn_rnn/10_exercise.ipynb\" target=\"_parent\"><img src=\"https://colab.research.google.com/assets/colab-badge.svg\" alt=\"Open In Colab\"/></a>"
      ]
    },
    {
      "cell_type": "markdown",
      "metadata": {
        "id": "Niaz8_W6OX34"
      },
      "source": [
        "# 演習\n",
        "RNNの層にGRUを使用して、画像の生成を行いましょう。  \n",
        "GRUを使用したモデルのクラスを記述します。\n"
      ]
    },
    {
      "cell_type": "markdown",
      "metadata": {
        "id": "vvRgf3-j2k76"
      },
      "source": [
        "## データの前処理\n",
        "画像データをRNNに適した形に整えます。  "
      ]
    },
    {
      "cell_type": "code",
      "metadata": {
        "id": "bUcJiVtDV7Ad"
      },
      "source": [
        "import torch\n",
        "from torchvision.datasets import FashionMNIST\n",
        "import torchvision.transforms as transforms\n",
        "from torch.utils.data import DataLoader\n",
        "import numpy as np\n",
        "import matplotlib.pyplot as plt\n",
        "\n",
        "img_size = 28\n",
        "n_time = 14  # 時系列の数\n",
        "n_in = img_size  # 入力層のニューロン数\n",
        "n_mid = 256  # 中間層のニューロン数\n",
        "n_out = img_size  # 出力層のニューロン数\n",
        "n_sample_in_img = img_size-n_time  # 1枚の画像中のサンプル数\n",
        "\n",
        "fmnist_data = FashionMNIST(root=\"./data\",\n",
        "                            train=True,download=True,\n",
        "                            transform=transforms.ToTensor())\n",
        "dataloader = DataLoader(fmnist_data, batch_size=len(fmnist_data), shuffle=False)\n",
        "dataiter = iter(dataloader)  # イテレータ\n",
        "train_imgs, labels = next(dataiter)  # データを取り出す\n",
        "train_imgs = train_imgs.reshape(-1, img_size, img_size)\n",
        "\n",
        "n_sample = len(train_imgs) * n_sample_in_img  # サンプル数\n",
        "\n",
        "input_data = np.zeros((n_sample, n_time, n_in))  # 入力\n",
        "correct_data = np.zeros((n_sample, n_out))  # 正解\n",
        "for i in range(len(train_imgs)):\n",
        "    for j in range(n_sample_in_img):\n",
        "        sample_id = i*n_sample_in_img + j\n",
        "        input_data[sample_id] = train_imgs[i, j:j+n_time]\n",
        "        correct_data[sample_id] = train_imgs[i, j+n_time]\n",
        "\n",
        "input_data = torch.tensor(input_data, dtype=torch.float)  # テンソルに変換\n",
        "correct_data = torch.tensor(correct_data, dtype=torch.float)\n",
        "dataset = torch.utils.data.TensorDataset(input_data, correct_data)  # データセットの作成\n",
        "\n",
        "train_loader = DataLoader(dataset, batch_size=128, shuffle=True)  # DataLoaderの設定"
      ],
      "execution_count": null,
      "outputs": []
    },
    {
      "cell_type": "markdown",
      "metadata": {
        "id": "d8pnaugFDnLN"
      },
      "source": [
        "## テスト用のデータ\n",
        "今回は、訓練済みのモデルが機能することを確かめるために使用します。"
      ]
    },
    {
      "cell_type": "code",
      "metadata": {
        "id": "xISsKRTAp7QG"
      },
      "source": [
        "n_disp = 10  # 生成し表示する画像の数\n",
        "\n",
        "disp_data = FashionMNIST(root=\"./data\",\n",
        "                            train=False,download=True,\n",
        "                            transform=transforms.ToTensor())\n",
        "disp_loader = DataLoader(disp_data, batch_size=n_disp, shuffle=False)\n",
        "dataiter = iter(disp_loader)  # イテレータ\n",
        "disp_imgs, labels = next(dataiter)  # データを取り出す\n",
        "disp_imgs = disp_imgs.reshape(-1, img_size, img_size)"
      ],
      "execution_count": null,
      "outputs": []
    },
    {
      "cell_type": "markdown",
      "metadata": {
        "id": "NyLBjYjr3RXu"
      },
      "source": [
        "## 画像生成用の関数\n",
        "以下の関数は、オリジナルの画像`disp_imgs`と、この画像の上半分をもとに下半分を生成した`gen_imgs`を並べて表示します。  "
      ]
    },
    {
      "cell_type": "code",
      "metadata": {
        "id": "dFmq4Oy6apUC"
      },
      "source": [
        "def generate_images():\n",
        "    # オリジナルの画像\n",
        "    print(\"Original:\")\n",
        "    plt.figure(figsize=(20, 2))\n",
        "    for i in range(n_disp):\n",
        "        ax = plt.subplot(1, n_disp, i+1)\n",
        "        plt.imshow(disp_imgs[i], cmap=\"Greys_r\", vmin=0.0, vmax=1.0)\n",
        "        ax.get_xaxis().set_visible(False)  # 軸を非表示に\n",
        "        ax.get_yaxis().set_visible(False)\n",
        "    plt.show()\n",
        "\n",
        "    # 下半分をRNNにより生成した画像\n",
        "    print(\"Generated:\")\n",
        "    gen_imgs = disp_imgs.clone()\n",
        "    plt.figure(figsize=(20, 2))\n",
        "    for i in range(n_disp):\n",
        "        for j in range(n_sample_in_img):\n",
        "            x = gen_imgs[i, j:j+n_time].reshape(1, n_time, img_size)\n",
        "            x = x.cuda()  # GPU対応\n",
        "            gen_imgs[i, j+n_time] = net(x)[0]\n",
        "        ax = plt.subplot(1, n_disp, i+1)\n",
        "        plt.imshow(gen_imgs[i].detach(), cmap=\"Greys_r\", vmin=0.0, vmax=1.0)\n",
        "        ax.get_xaxis().set_visible(False)  # 軸を非表示に\n",
        "        ax.get_yaxis().set_visible(False)\n",
        "    plt.show()"
      ],
      "execution_count": null,
      "outputs": []
    },
    {
      "cell_type": "markdown",
      "metadata": {
        "id": "FalXNYaJPkoE"
      },
      "source": [
        "## モデルの構築\n",
        "以下のセルで、Netクラスの内部にコードを記述しGRUを使ったRNNのモデルを構築しましょう。  \n",
        "GRUの実装方法は、以下の公式ドキュメントが詳しいです。  \n",
        "https://pytorch.org/docs/stable/nn.html#gru"
      ]
    },
    {
      "cell_type": "code",
      "metadata": {
        "id": "SuqqZmsh_jNK"
      },
      "source": [
        "import torch.nn as nn\n",
        "import torch.nn.functional as F\n",
        "\n",
        "class Net(nn.Module):\n",
        "    # ------- 以下にコードを書く -------\n",
        "\n",
        "\n",
        "\n",
        "\n",
        "\n",
        "\n",
        "\n",
        "\n",
        "\n",
        "\n",
        "\n",
        "\n",
        "\n",
        "    # ------- ここまで -------\n",
        "\n",
        "net = Net()\n",
        "net.cuda()  # GPU対応\n",
        "print(net)"
      ],
      "execution_count": null,
      "outputs": []
    },
    {
      "cell_type": "markdown",
      "metadata": {
        "id": "qsW5zCKhQE9p"
      },
      "source": [
        "## 学習\n",
        "モデルを訓練します。  \n",
        "学習には時間がかかりますので、編集→ノートブックの設定のハードウェアアクセラレーターでGPUを選択しましょう。"
      ]
    },
    {
      "cell_type": "code",
      "metadata": {
        "id": "u6zwN3nArbGC"
      },
      "source": [
        "from torch import optim\n",
        "\n",
        "# 交差エントロピー誤差関数\n",
        "loss_fnc = nn.MSELoss()\n",
        "\n",
        "# 最適化アルゴリズム\n",
        "optimizer = optim.Adam(net.parameters())  # 学習率は0.01\n",
        "\n",
        "# 損失のログ\n",
        "record_loss_train = []\n",
        "\n",
        "# 学習\n",
        "for i in range(25):  # 25エポック学習\n",
        "    net.train()  # 訓練モード\n",
        "    loss_train = 0\n",
        "    for j, (x, t) in enumerate(train_loader):  # ミニバッチ（x, t）を取り出す\n",
        "        x, t = x.cuda(), t.cuda()  # GPU対応\n",
        "        y = net(x)\n",
        "        loss = loss_fnc(y, t)\n",
        "        loss_train += loss.item()\n",
        "        optimizer.zero_grad()\n",
        "        loss.backward()\n",
        "        optimizer.step()\n",
        "    loss_train /= j+1\n",
        "    record_loss_train.append(loss_train)\n",
        "\n",
        "    if i%1 == 0:\n",
        "        print(\"Epoch:\", i, \"Loss_Train:\", loss_train)\n",
        "        generate_images()"
      ],
      "execution_count": null,
      "outputs": []
    },
    {
      "cell_type": "markdown",
      "metadata": {
        "id": "rJwwrWTw43rx"
      },
      "source": [
        "## 誤差の推移\n",
        "誤差の推移をグラフ表示します。  "
      ]
    },
    {
      "cell_type": "code",
      "metadata": {
        "id": "OaJx4swE45XI"
      },
      "source": [
        "import matplotlib.pyplot as plt\n",
        "\n",
        "plt.plot(range(len(record_loss_train)), record_loss_train, label=\"Train\")\n",
        "plt.legend()\n",
        "\n",
        "plt.xlabel(\"Epochs\")\n",
        "plt.ylabel(\"Error\")\n",
        "plt.show()"
      ],
      "execution_count": null,
      "outputs": []
    },
    {
      "cell_type": "markdown",
      "metadata": {
        "id": "xBNiERnQxexU"
      },
      "source": [
        "# 解答例\n",
        "以下は、どうしても手がかりがないときのみ参考にしましょう。"
      ]
    },
    {
      "cell_type": "code",
      "metadata": {
        "id": "NQDXjjVS3ppJ"
      },
      "source": [
        "import torch.nn as nn\n",
        "import torch.nn.functional as F\n",
        "\n",
        "class Net(nn.Module):\n",
        "    # ------- 以下にコードを書く -------\n",
        "    def __init__(self):\n",
        "        super().__init__()\n",
        "        self.rnn = nn.GRU(  # GRU層\n",
        "            input_size=n_in,  # 入力サイズ\n",
        "            hidden_size=n_mid,  # ニューロン数\n",
        "            batch_first=True,  # 入力を (バッチサイズ, 時系列の数, 入力の数) にする\n",
        "        )\n",
        "        self.fc = nn.Linear(n_mid, n_out)  # 全結合層\n",
        "\n",
        "    def forward(self, x):\n",
        "        y_rnn, h = self.rnn(x, None)  # hは次の時刻に渡される値\n",
        "        y = self.fc(y_rnn[:, -1, :])  # yは最後の時刻の出力\n",
        "        return y\n",
        "    # ------- ここまで -------\n",
        "\n",
        "net = Net()\n",
        "net.cuda()  # GPU対応\n",
        "print(net)"
      ],
      "execution_count": null,
      "outputs": []
    }
  ]
}