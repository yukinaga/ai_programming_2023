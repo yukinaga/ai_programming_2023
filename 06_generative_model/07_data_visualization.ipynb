{
  "nbformat": 4,
  "nbformat_minor": 0,
  "metadata": {
    "colab": {
      "provenance": [],
      "authorship_tag": "ABX9TyPA6Tv03C4SdZDtPUT0o+JM",
      "include_colab_link": true
    },
    "kernelspec": {
      "name": "python3",
      "display_name": "Python 3"
    },
    "language_info": {
      "name": "python"
    }
  },
  "cells": [
    {
      "cell_type": "markdown",
      "metadata": {
        "id": "view-in-github",
        "colab_type": "text"
      },
      "source": [
        "<a href=\"https://colab.research.google.com/github/yukinaga/ai_programming_2022/blob/main/06_generative_model/07_data_visualization.ipynb\" target=\"_parent\"><img src=\"https://colab.research.google.com/assets/colab-badge.svg\" alt=\"Open In Colab\"/></a>"
      ]
    },
    {
      "cell_type": "markdown",
      "metadata": {
        "id": "8kW_qXJVTjic"
      },
      "source": [
        "# データの可視化\n",
        "Streamlitによる、データの様々な可視化方法を学びます。"
      ]
    },
    {
      "cell_type": "markdown",
      "source": [
        "## ●ライブラリのインストール\n",
        "Streamlit、およびアプリの動作の確認に使用する「ngrok」をインストールします。"
      ],
      "metadata": {
        "id": "vRJCuxALcgkb"
      }
    },
    {
      "cell_type": "code",
      "execution_count": null,
      "metadata": {
        "id": "Pbqipzj3nCy4"
      },
      "outputs": [],
      "source": [
        "!pip install streamlit==1.7.0 --quiet\n",
        "!pip install pyngrok==4.1.1 --quiet"
      ]
    },
    {
      "cell_type": "markdown",
      "source": [
        "Streamlit、およびngrokをインポートしておきます。  \n",
        "エラーが発生する場合は、「ランタイム」→「ランタイムを再起動」によりランタイムを再起動し、再びコードセルを上から順に実行しましょう。"
      ],
      "metadata": {
        "id": "husUkYy5dhZ4"
      }
    },
    {
      "cell_type": "code",
      "source": [
        "import streamlit as st\n",
        "from pyngrok import ngrok"
      ],
      "metadata": {
        "id": "OsHcq-kaDwIi"
      },
      "execution_count": null,
      "outputs": []
    },
    {
      "cell_type": "markdown",
      "source": [
        "## ●データの可視化\n",
        "様々なデータ可視化のコードを、「app.py」に書き込みます。"
      ],
      "metadata": {
        "id": "5fOtVgU5duPe"
      }
    },
    {
      "cell_type": "code",
      "source": [
        "%%writefile app.py\n",
        "# 以下を「app.py」に書き込み\n",
        "import streamlit as st\n",
        "import numpy as np\n",
        "import pandas as pd\n",
        "\n",
        "# ---------- 変数の記述による表示（magic command） ----------\n",
        "st.title(\"Magic command\")\n",
        "df = pd.DataFrame({\n",
        "    \"col1\": [11, 12, 13, 14],\n",
        "    \"col2\": [111, 112, 113, 114]\n",
        "})\n",
        "df\n",
        "\n",
        "# ---------- st.write()　は万能の働き ----------\n",
        "st.title(\"st.write()\")\n",
        "st.write(\"st.write()を使ってみましょう！\")\n",
        "st.write(pd.DataFrame({\n",
        "    \"col1\": [11, 12, 13, 14],\n",
        "    \"col2\": [111, 112, 113, 114]\n",
        "}))\n",
        "\n",
        "# ---------- st.dataframe()　はインタラクティブな表の描画 ----------\n",
        "st.title(\"st.dataframe()\")\n",
        "dataframe = pd.DataFrame(\n",
        "    np.random.randn(8, 8),\n",
        "    columns=(\"col\"+str(i) for i in range(8)))\n",
        "st.dataframe(dataframe.style.highlight_max(axis=0))\n",
        "\n",
        "# ---------- st.table()　は静的な表の描画 ----------\n",
        "st.title(\"st.table()\")\n",
        "dataframe = pd.DataFrame(\n",
        "    np.random.randn(8, 8),\n",
        "    columns=(\"col\"+str(i) for i in range(8)))\n",
        "st.table(dataframe)\n",
        "\n",
        "# ---------- st.line_chart()は折れ線グラフの描画 ----------\n",
        "st.title(\"st.line_chart()\")\n",
        "chart = pd.DataFrame(\n",
        "    np.random.randn(16, 4),\n",
        "    columns=(\"line\"+str(i) for i in range(4)))\n",
        "st.line_chart(chart)\n",
        "\n",
        "# ---------- st.map()は地図の描画 ----------\n",
        "st.title(\"st.map()\")\n",
        "map = pd.DataFrame(\n",
        "    [35.658584, 139.7454316] + np.random.randn(100, 2)/100,  # 東京タワー周辺の緯度、経度\n",
        "    columns=[\"lat\", \"lon\"])\n",
        "st.map(map)\n",
        "\n",
        "# ---------- st.latex()は数式の描画 ----------\n",
        "st.title(\"st.latex()\")\n",
        "st.latex(r\"\"\"\n",
        "E  = \\frac{1}{2}\\sum_{j=1}^m \\Bigl(\\sum_{k=0}^n a_kx_j^k - t_j\\Bigr)^2\n",
        "     \"\"\")  # 「r」を付けてraw文字列に"
      ],
      "metadata": {
        "id": "Ntj_BU3bnJli"
      },
      "execution_count": null,
      "outputs": []
    },
    {
      "cell_type": "markdown",
      "source": [
        "## ●Authtokenの設定\n",
        "ngrokで接続するために必要な「Authtoken」を設定します。  \n",
        "以下のコードの、  \n",
        "`!ngrok authtoken YourAuthtoken`  \n",
        "における  \n",
        "`YourAuthtoken`の箇所を、自分のAuthtokenに置き換えます。  \n",
        "Authtokenは、ngrokのサイトに登録すれば取得することができます。  \n",
        "https://ngrok.com/\n"
      ],
      "metadata": {
        "id": "j03EsJaHh4KK"
      }
    },
    {
      "cell_type": "code",
      "source": [
        "!ngrok authtoken YourAuthtoken"
      ],
      "metadata": {
        "id": "mTfmORj2Dn7-"
      },
      "execution_count": null,
      "outputs": []
    },
    {
      "cell_type": "markdown",
      "source": [
        "## ●アプリの起動と動作確認\n",
        "streamlitの`run`コマンドでアプリを起動します。\n"
      ],
      "metadata": {
        "id": "CnobL05MkjB1"
      }
    },
    {
      "cell_type": "code",
      "source": [
        "!streamlit run app.py &>/dev/null&  # 「&>/dev/null&」により、出力を非表示にしてバックグランドジョブとして実行"
      ],
      "metadata": {
        "id": "W0jXlMXWK0vi"
      },
      "execution_count": null,
      "outputs": []
    },
    {
      "cell_type": "markdown",
      "source": [
        "ngrokのプロセスを終了した上で、新たにポートを指定して接続します。  \n",
        "接続の結果、urlを取得できます。  \n",
        "ngrokの無料プランでは同時に1つのプロセスしか動かせないので、エラーが発生した場合は「ランタイム」→「セッションの管理」で不要なGoogle Colabのセッションを修了しましょう。  "
      ],
      "metadata": {
        "id": "W5RLCJ7Sl2x_"
      }
    },
    {
      "cell_type": "code",
      "source": [
        "ngrok.kill()  # プロセスの修了\n",
        "url = ngrok.connect(port=\"8501\")  # 接続"
      ],
      "metadata": {
        "id": "v23ymsdLK3x7"
      },
      "execution_count": null,
      "outputs": []
    },
    {
      "cell_type": "markdown",
      "source": [
        "urlを表示し、リンク先でアプリが動作することを確認します。"
      ],
      "metadata": {
        "id": "NZ0O_pNan57t"
      }
    },
    {
      "cell_type": "code",
      "source": [
        "print(url)"
      ],
      "metadata": {
        "id": "MIY7ositLAXC"
      },
      "execution_count": null,
      "outputs": []
    }
  ]
}