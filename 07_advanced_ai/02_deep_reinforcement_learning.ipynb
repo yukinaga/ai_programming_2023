{
  "nbformat": 4,
  "nbformat_minor": 0,
  "metadata": {
    "accelerator": "GPU",
    "colab": {
      "provenance": [],
      "authorship_tag": "ABX9TyM4ZZMvav8vcFnDj0E8/Fvd",
      "include_colab_link": true
    },
    "kernelspec": {
      "display_name": "Python 3",
      "name": "python3"
    }
  },
  "cells": [
    {
      "cell_type": "markdown",
      "metadata": {
        "id": "view-in-github",
        "colab_type": "text"
      },
      "source": [
        "<a href=\"https://colab.research.google.com/github/yukinaga/ai_programming_2022/blob/main/07_advanced_ai/02_deep_reinforcement_learning.ipynb\" target=\"_parent\"><img src=\"https://colab.research.google.com/assets/colab-badge.svg\" alt=\"Open In Colab\"/></a>"
      ]
    },
    {
      "cell_type": "markdown",
      "metadata": {
        "id": "vxam5J6s8Pw9"
      },
      "source": [
        "# 深層強化学習の実装\n",
        "重力下で飛行する物体の制御を、深層強化学習により行います。  \n",
        "深層強化学習では、Q-Tableの代わりにニューラルネットワークを使用します。  \n",
        "ニューラルネットワークを実装するためのフレームワークとして、PyTorchを使用します。"
      ]
    },
    {
      "cell_type": "markdown",
      "metadata": {
        "id": "A2iCWKom81u5"
      },
      "source": [
        "## ライブラリの導入\n",
        "数値計算のためにNumPy、グラフ表示のためにmatplotlib、ニューラルネットワークを実装するためのフレームワークとしてPyTorchを導入します。"
      ]
    },
    {
      "cell_type": "code",
      "metadata": {
        "id": "zfOUkvmVAmmY"
      },
      "source": [
        "import numpy as np\n",
        "import matplotlib.pyplot as plt \n",
        "from matplotlib import animation, rc\n",
        "\n",
        "import torch\n",
        "import torch.nn as nn\n",
        "import torch.nn.functional as F\n",
        "from torch import optim"
      ],
      "execution_count": null,
      "outputs": []
    },
    {
      "cell_type": "markdown",
      "metadata": {
        "id": "Mjp80sVK1kue"
      },
      "source": [
        "## Netクラス\n",
        "`nn.Module`モジュールを継承したクラスとして、ニューラルネットワークを実装します。"
      ]
    },
    {
      "cell_type": "code",
      "metadata": {
        "id": "EpiskMvFmhAq"
      },
      "source": [
        "class Net(nn.Module):\n",
        "    def __init__(self, n_state, n_mid, n_action):\n",
        "        super().__init__()\n",
        "        self.fc1 = nn.Linear(n_state, n_mid)  # 全結合層\n",
        "        self.fc2 = nn.Linear(n_mid, n_mid)\n",
        "        self.fc3 = nn.Linear(n_mid, n_action)\n",
        "\n",
        "    def forward(self, x):\n",
        "        x = F.relu(self.fc1(x))\n",
        "        x = F.relu(self.fc2(x))\n",
        "        x = self.fc3(x)\n",
        "        return x"
      ],
      "execution_count": null,
      "outputs": []
    },
    {
      "cell_type": "markdown",
      "metadata": {
        "id": "FAGWByiE9Q1M"
      },
      "source": [
        "## Brainクラス\n",
        "エージェントの頭脳となるクラスです。Q値を出力するニューラルネットワークを構築し、Q値が正解に近づくように訓練します。  \n",
        "Q学習に用いる式は以下の通りです。  \n",
        "\n",
        "$$ Q(s_t,a_t) \\leftarrow Q(s_t,a_t) + \\eta\\left(R_{t+1}+\\gamma \\max_{a}Q(s_{t+1}, a) - Q(s_{t}, a_{t})\\right) $$\n",
        "\n",
        "ここで、$a_{t}$は行動、$s_t$は状態、$Q(s_t,a_t) $はQ値、$\\eta$は学習係数、$R_{t+1}$は報酬、$\\gamma$は割引率になります。  \n",
        "次の状態における最大のQ値を使用するのですが、ディープラーニングの正解として用いるのは上記の式のうちの以下の部分です。  \n",
        "\n",
        "$$R_{t+1}+\\gamma \\max_{a}Q(s_{t+1}, a_{t})$$\n",
        "\n",
        "以下の`Brain`クラスにおけるtrainメソッドでは、正解として上記を用います。  \n",
        "また、ある状態における行動を決定する`get_action`メソッドでは、ε-greedy法により行動が選択されます。"
      ]
    },
    {
      "cell_type": "code",
      "metadata": {
        "id": "x7mzk3ujGwjY"
      },
      "source": [
        "class Brain:\n",
        "    def __init__(self, n_state, n_action, net, loss_fnc, optimizer, is_gpu, gamma=0.9, r=0.99, lr=0.01):\n",
        "        self.n_state = n_state  # 状態の数\n",
        "        self.n_action = n_action  # 行動の数\n",
        "\n",
        "        self.net = net  # ニューラルネットワークのモデル\n",
        "        self.loss_fnc = loss_fnc  # 誤差関数\n",
        "        self.optimizer = optimizer  # 最適化アルゴリズム\n",
        "        self.is_gpu = is_gpu  # GPUを使うかどうか\n",
        "        if self.is_gpu:\n",
        "            self.net.cuda()  # GPU対応\n",
        "\n",
        "        self.eps = 1.0  # ε\n",
        "        self.gamma = gamma  # 割引率\n",
        "        self.r = r  # εの減衰率\n",
        "        self.lr = lr  # 学習係数\n",
        "\n",
        "    def train(self, states, next_states, action, reward, terminal):  # ニューラルネットワークを訓練\n",
        "\n",
        "        states = torch.from_numpy(states).float()\n",
        "        next_states = torch.from_numpy(next_states).float()\n",
        "        if self.is_gpu:\n",
        "            states, next_states = states.cuda(), next_states.cuda()  # GPU対応\n",
        "            \n",
        "        self.net.eval()  # 評価モード\n",
        "        next_q = self.net.forward(next_states)\n",
        "        self.net.train()  # 訓練モード\n",
        "        q = self.net.forward(states)\n",
        "\n",
        "        t = q.clone().detach()\n",
        "        if terminal:\n",
        "            t[:, action] = reward  #  エピソード終了時の正解は、報酬のみ\n",
        "        else:\n",
        "            t[:, action] = reward + self.gamma*np.max(next_q.detach().cpu().numpy(), axis=1)[0]\n",
        "            \n",
        "        loss = self.loss_fnc(q, t)\n",
        "        self.optimizer.zero_grad()\n",
        "        loss.backward()\n",
        "        self.optimizer.step()\n",
        "\n",
        "    def get_action(self, states):  # 行動を取得\n",
        "        states = torch.from_numpy(states).float()\n",
        "        if self.is_gpu:\n",
        "            states = states.cuda()  # GPU対応\n",
        "\n",
        "        if np.random.rand() < self.eps:  # ランダムな行動\n",
        "            action = np.random.randint(self.n_action)\n",
        "        else:  # Q値の高い行動を選択\n",
        "            q = self.net.forward(states)\n",
        "            action = np.argmax(q.detach().cpu().numpy(), axis=1)[0]\n",
        "        if self.eps > 0.1:  # εの下限\n",
        "            self.eps *= self.r\n",
        "        return action"
      ],
      "execution_count": null,
      "outputs": []
    },
    {
      "cell_type": "markdown",
      "metadata": {
        "id": "a9t6fuQvDPOf"
      },
      "source": [
        "## エージェントのクラス\n",
        "エージェントをクラスとして実装します。  \n",
        "x座標が-1から1まで、y座標が-1から1までの正方形の領域を考えますが、エージェントの初期位置は左端中央とします。  \n",
        "そして、エージェントが右端に達した際は報酬として1を与え、終了とします。  \n",
        "また、エージェントが上端もしくは下端に達した際は報酬として-1を与え、終了とします。  \n",
        "  \n",
        "x軸方向には等速度で移動します。  \n",
        "行動には、自由落下とジャンプの2種類があります。自由落下の場合は重量加速度をy速度に加えます。ジャンプの場合は、y速度を予め設定した値に変更します。"
      ]
    },
    {
      "cell_type": "code",
      "metadata": {
        "id": "DP4AaA5bHTCQ"
      },
      "source": [
        "class Agent:\n",
        "    def __init__(self, v_x, v_y_sigma, v_jump, brain):\n",
        "        self.v_x = v_x  # x速度\n",
        "        self.v_y_sigma = v_y_sigma  # y速度、初期値の標準偏差\n",
        "        self.v_jump = v_jump  # ジャンプ速度\n",
        "        self.brain = brain\n",
        "        self.reset()\n",
        "\n",
        "    def reset(self):\n",
        "        self.x = -1  # 初期x座標\n",
        "        self.y = 0  # 初期y座標\n",
        "        self.v_y = self.v_y_sigma * np.random.randn()  # 初期y速度\n",
        "\n",
        "    def step(self, g):  # 時間を1つ進める g:重力加速度\n",
        "        states = np.array([[self.y, self.v_y]])\n",
        "        self.x += self.v_x\n",
        "        self.y += self.v_y\n",
        "\n",
        "        reward = 0  # 報酬\n",
        "        terminal = False  # 終了判定\n",
        "        if self.x>1.0:\n",
        "            reward = 1\n",
        "            terminal = True\n",
        "        elif self.y<-1.0 or self.y>1.0:\n",
        "            reward = -1\n",
        "            terminal = True\n",
        "\n",
        "        action = self.brain.get_action(states)\n",
        "        if action == 0:\n",
        "            self.v_y -= g   # 自由落下\n",
        "        else:\n",
        "            self.v_y = self.v_jump  # ジャンプ\n",
        "        next_states = np.array([[self.y, self.v_y]])\n",
        "        self.brain.train(states, next_states, action, reward, terminal)\n",
        "\n",
        "        if terminal:\n",
        "            self.reset()"
      ],
      "execution_count": null,
      "outputs": []
    },
    {
      "cell_type": "markdown",
      "metadata": {
        "id": "fr-bkx6REXCx"
      },
      "source": [
        "## 環境のクラス\n",
        "環境をクラスとして実装します。  \n",
        "このクラスの役割は、重力加速度を設定し、時間を前に進めるのみです。"
      ]
    },
    {
      "cell_type": "code",
      "metadata": {
        "id": "KqCxzW2RHYrl"
      },
      "source": [
        "class Environment:\n",
        "    def __init__(self, agent, g):\n",
        "        self.agent = agent\n",
        "        self.g = g  # 重力加速度\n",
        "\n",
        "    def step(self):\n",
        "        self.agent.step(self.g)\n",
        "        return (self.agent.x, self.agent.y)"
      ],
      "execution_count": null,
      "outputs": []
    },
    {
      "cell_type": "markdown",
      "metadata": {
        "id": "Hot23xovE-fj"
      },
      "source": [
        "## アニメーション\n",
        "今回は、matplotlibを使ってエージェントの飛行をアニメーションで表します。  \n",
        "アニメーションには、matplotlib.animationのFuncAnimation関数を使用します。  "
      ]
    },
    {
      "cell_type": "code",
      "metadata": {
        "id": "yuEBjtK-JNbz"
      },
      "source": [
        "def animate(environment, interval, frames):\n",
        "    fig, ax = plt.subplots()\n",
        "    plt.close()\n",
        "    ax.set_xlim(( -1, 1))\n",
        "    ax.set_ylim((-1, 1))\n",
        "    sc = ax.scatter([], [])\n",
        "\n",
        "    def plot(data):\n",
        "        x, y = environment.step()\n",
        "        sc.set_offsets(np.array([[x, y]]))\n",
        "        return (sc,)\n",
        "\n",
        "    return animation.FuncAnimation(fig, plot, interval=interval, frames=frames, blit=True)"
      ],
      "execution_count": null,
      "outputs": []
    },
    {
      "cell_type": "markdown",
      "metadata": {
        "id": "-XhwfFz1GKOl"
      },
      "source": [
        "## 深層強化学習の実行\n",
        "ニューラルネットワーク、Brain、エージェント、環境の設定を行い、深層強化学習を実行します。"
      ]
    },
    {
      "cell_type": "code",
      "metadata": {
        "colab": {
          "background_save": true
        },
        "id": "jOryPVWuJTme"
      },
      "source": [
        "n_state = 2\n",
        "n_mid = 32\n",
        "n_action = 2\n",
        "\n",
        "net = Net(n_state, n_mid, n_action)\n",
        "\n",
        "loss_fnc = nn.MSELoss()  # 誤差関数\n",
        "optimizer = optim.RMSprop(net.parameters(), lr=0.01)  # 最適化アルゴリズム\n",
        "is_gpu = True\n",
        "\n",
        "brain = Brain(n_state, n_action, net, loss_fnc, optimizer, is_gpu)\n",
        "\n",
        "v_x = 0.05\n",
        "v_y_sigma = 0.1\n",
        "v_jump = 0.2\n",
        "agent = Agent(v_x, v_y_sigma, v_jump, brain)\n",
        "\n",
        "g = 0.2\n",
        "environment = Environment(agent, g)\n",
        "\n",
        "anim = animate(environment, 50, 1024)\n",
        "rc(\"animation\", html=\"jshtml\")\n",
        "anim"
      ],
      "execution_count": null,
      "outputs": []
    },
    {
      "cell_type": "markdown",
      "metadata": {
        "id": "dVn-iSjcGoco"
      },
      "source": [
        "学習が進むにつれて、エージェントは状態に応じて適切な行動を選択できるようになります。"
      ]
    }
  ]
}